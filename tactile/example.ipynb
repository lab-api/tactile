{
 "cells": [
  {
   "cell_type": "code",
   "execution_count": null,
   "metadata": {},
   "outputs": [],
   "source": [
    "from parametric import Parameter\n",
    "from tactile import MIDIStream\n",
    "\n",
    "stream = MIDIStream('Midi Fighter Twister')"
   ]
  },
  {
   "cell_type": "code",
   "execution_count": null,
   "metadata": {},
   "outputs": [],
   "source": [
    "## attach a few parameters to the stream\n",
    "x = Parameter('x', 0, bounds = (-1, 1))\n",
    "y = Parameter('y', 0, bounds = (-1, 1))\n",
    "\n",
    "resolution = 1024\n",
    "\n",
    "stream.assign(0, x, output=True)\n",
    "stream.assign(1, y, output=True)"
   ]
  }
 ],
 "metadata": {
  "kernelspec": {
   "display_name": "Python 3",
   "language": "python",
   "name": "python3"
  },
  "language_info": {
   "codemirror_mode": {
    "name": "ipython",
    "version": 3
   },
   "file_extension": ".py",
   "mimetype": "text/x-python",
   "name": "python",
   "nbconvert_exporter": "python",
   "pygments_lexer": "ipython3",
   "version": "3.6.6"
  }
 },
 "nbformat": 4,
 "nbformat_minor": 2
}

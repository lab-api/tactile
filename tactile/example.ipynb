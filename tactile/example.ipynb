{
 "cells": [
  {
   "cell_type": "code",
   "execution_count": null,
   "metadata": {},
   "outputs": [],
   "source": [
    "from parametric import Parameter\n",
    "from tactile import AbsoluteStream, RelativeStream\n",
    "            \n",
    "# stream = AbsoluteStream('VI61 Out', display_events=True).start()\n",
    "# stream = RelativeStream('Midi Fighter Twister', plus_value=65, minus_value=63, display_events=True, resolution=256).start()\n",
    "stream = RelativeStream(plus_value=65, minus_value=63, display_events=True, resolution=256).start()    # auto-detect first device\n",
    "  \n",
    "## attach a few parameters to the stream\n",
    "x = Parameter('x', 0, bounds = (-1, 1))\n",
    "y = Parameter('y', 0, bounds = (-1, 1))\n",
    "\n",
    "# stream.assign(20, x)\n",
    "# stream.assign(21, y)"
   ]
  },
  {
   "cell_type": "code",
   "execution_count": null,
   "metadata": {},
   "outputs": [],
   "source": [
    "stream.bind(x)"
   ]
  },
  {
   "cell_type": "markdown",
   "metadata": {},
   "source": [
    "In the following example, we'll map a pair of knobs to the X and Y axes of a Mirrorcle PicoAmp MEMS mirror driver:"
   ]
  },
  {
   "cell_type": "code",
   "execution_count": null,
   "metadata": {},
   "outputs": [],
   "source": [
    "from ybdrivers.mirrorcle import PicoAmp\n",
    "from tactile import RelativeStream\n",
    "\n",
    "# mirror = PicoAmp('470016934')\n",
    "\n",
    "stream = RelativeStream('Midi Fighter Twister', plus_value=65, minus_value=63, display_events=True, resolution=256).start()\n",
    "# stream.assign(0, mirror.X)\n",
    "# stream.assign(1, mirror.Y)"
   ]
  },
  {
   "cell_type": "code",
   "execution_count": null,
   "metadata": {},
   "outputs": [],
   "source": []
  }
 ],
 "metadata": {
  "kernelspec": {
   "display_name": "Python 3",
   "language": "python",
   "name": "python3"
  },
  "language_info": {
   "codemirror_mode": {
    "name": "ipython",
    "version": 3
   },
   "file_extension": ".py",
   "mimetype": "text/x-python",
   "name": "python",
   "nbconvert_exporter": "python",
   "pygments_lexer": "ipython3",
   "version": "3.7.4"
  },
  "toc": {
   "base_numbering": 1,
   "nav_menu": {},
   "number_sections": false,
   "sideBar": true,
   "skip_h1_title": false,
   "title_cell": "Table of Contents",
   "title_sidebar": "Contents",
   "toc_cell": false,
   "toc_position": {},
   "toc_section_display": true,
   "toc_window_display": false
  }
 },
 "nbformat": 4,
 "nbformat_minor": 2
}
